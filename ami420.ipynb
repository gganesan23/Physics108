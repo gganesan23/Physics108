{
 "cells": [
  {
   "cell_type": "code",
   "execution_count": 10,
   "metadata": {
    "collapsed": false,
    "jupyter": {
     "outputs_hidden": false
    }
   },
   "outputs": [],
   "source": [
    "import numpy as np\n",
    "import pyvisa as visa\n",
    "import time\n",
    "\n",
    "\n",
    "# initialize ami.\n",
    "def initami(instr):\n",
    "    rm = visa.ResourceManager()\n",
    "    ami = rm.open_resource(instr)\n",
    "    \n",
    "    max_current = 0.032 / 0.10238 # max charging rate in T/s / field constant in T/amp gives max amp/s\n",
    "    max_voltage = 100 # TODO check\n",
    "\n",
    "    ami.write('CONF:PS 0')\n",
    "    ami.write('CONF:STAB 0')\n",
    "    ami.write('CONF:COIL 0.10238')\n",
    "    ami.write('CONF:FIELD:UNITS 1')\n",
    "    ami.write('CONF:VOLT:LIM ' + str(max_voltage))\n",
    "    ami.write('CONF:CURR:LIM ' + str(max_current))\n",
    "    # min output voltage, min output current, v-v mode range\n",
    "    \n",
    "    \n",
    "    #max output current vs current limit\n",
    "    # enable quench detect\n",
    "    # energy absorber not present\n",
    "    \n",
    "    return ami\n",
    "    \n",
    "def rampami(final_field, ramp_rate):\n",
    "    ami.write('CONF:RAMP:FIELD ' + str(final_field) + ',' + str(ramp_rate))\n",
    "    # is CONF:VOLT:LIM necessary?\n",
    "    ami.write('RAMP')\n",
    "    \n",
    "def readami(ami):\n",
    "    return ami.query_ascii_values('FIELD:MAG?')"
   ]
  }
 ],
 "metadata": {
  "anaconda-cloud": {},
  "kernelspec": {
   "display_name": "Python 3 (ipykernel)",
   "language": "python",
   "name": "python3"
  },
  "language_info": {
   "codemirror_mode": {
    "name": "ipython",
    "version": 3
   },
   "file_extension": ".py",
   "mimetype": "text/x-python",
   "name": "python",
   "nbconvert_exporter": "python",
   "pygments_lexer": "ipython3",
   "version": "3.10.4"
  }
 },
 "nbformat": 4,
 "nbformat_minor": 4
}
