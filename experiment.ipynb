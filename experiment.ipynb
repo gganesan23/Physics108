{
 "cells": [
  {
   "cell_type": "code",
   "execution_count": 15,
   "id": "55af51c5-6420-407a-861c-dc19177c9c69",
   "metadata": {},
   "outputs": [],
   "source": [
    "# TODO: are min and max gate voltages fine at -10 and 10?\n",
    "# TODO: what is diff of srs 830 vs 810? figure out which to get the phase from\n",
    "# TODO: how many steps and what delay time for keithley?\n",
    "# TODO: check initami\n",
    "# TODO: is the ramp rate correct for ami; i just used the max\n",
    "# TODO: do i need the [1] after readami inside lockin_iv_ami\n",
    "# TODO: how long to wait between taking measurements of ami--aka, how many data points needed\n",
    "# TODO: how to set whether srs is measuring current or voltage or should i just set this manually\n",
    "# TODO: what voltage should the power supply be drawing at different currents? i.e. how does the resistance of the magnet change\n",
    "\n",
    "%run lockin_iv_keithley.ipynb\n",
    "%run lockin_iv_ami.ipynb\n",
    "%run k2400.ipynb\n",
    "%run ami420.ipynb\n",
    "%run srs.ipynb\n",
    "%run fileio.ipynb\n",
    "%run hp603.ipynb"
   ]
  },
  {
   "cell_type": "code",
   "execution_count": 8,
   "id": "14255a27-09f4-4f9b-a791-2f6143059330",
   "metadata": {},
   "outputs": [
    {
     "name": "stdout",
     "output_type": "stream",
     "text": [
      "KEITHLEY INSTRUMENTS INC.,MODEL 2400,1199539,C30   Mar 17 2006 09:29:29/A02  /K/J\n",
      "\n"
     ]
    }
   ],
   "source": [
    "# ami420=initami('GPIB0::7::INSTR') # init ami on GPIB addr 8\n",
    "srxx=initsrs('GPIB0::8::INSTR') # init srs on GPIB addr 20\n",
    "srxy = srxx\n",
    "srcurrent = srxx\n",
    "# srxy=initsrs('GPIB0::10::INSTR') # init srs on GPIB addr 20\n",
    "# srcurrent=initsrs('GPIB0::11::INSTR') # init srs on GPIB addr 20\n",
    "k2400=init2400('GPIB1::3::INSTR') # init k2400 on GPIB addr 20"
   ]
  },
  {
   "cell_type": "code",
   "execution_count": 16,
   "id": "74fcea11-f14f-431b-96dd-66cd65394e52",
   "metadata": {},
   "outputs": [
    {
     "data": {
      "image/png": "[encoded data removed]",
      "text/plain": [
       "<Figure size 576x216 with 4 Axes>"
      ]
     },
     "metadata": {
      "needs_background": "light"
     },
     "output_type": "display_data"
    }
   ],
   "source": [
    "# Sweep gate voltage (from Vmin = -10 V to Vmax = 10 V) and record Rxx, Rxy. Stay at Vg=Vmax. (See Fig 3a from Dean2010). Ramp speed: 0.02 V/sec\n",
    "delay = 0.05\n",
    "steps = 51\n",
    "\n",
    "step1 = lockin_iv_keithley(k2400,srxx,srxy,srcurrent,np.linspace(0,10,steps),delay,1) #how many steps, what delay time\n",
    "                                                              \n",
    "# # While Vg=Vmax, sweep the magnetic field from Bmin = 0 T to Bmax = 5 T. We should see a typical QHE plot for Rxx, Rxy.                                                                       \n",
    "# step2 = lockin_iv_ami(ami420,srsxx,srsxy,srscurrent,0,5,0.032, delay, 2)\n",
    "\n",
    "# # Go from V = Vmax to V = Vmin while staying at B = Bmax. We expect to see steps in Rxy that correspond to crossing of n=1,0,-1 LLs\n",
    "# step1 = lockin_iv_keithley(k2400,srxx,srxy,srcurrent,np.linspace(10,-10,steps,delay,1)) #how many steps, what delay time\n",
    "                                                                       \n",
    "# # Sweep from B = Bmax to B = 0 while at V = Vmin. We expect to see Rxy(-B) = -Rxy(B), Rxx(-B)=Rxx(B) according to Onsager relations.                                                                 \n",
    "# step4 = lockin_iv_ami(ami420,srsxx,srsxy,srscurrent,5,0,0.032, delay, 4)\n",
    "\n"
   ]
  },
  {
   "cell_type": "code",
   "execution_count": null,
   "id": "9a022569-f5fe-4f13-b3b4-a0eef4644abf",
   "metadata": {},
   "outputs": [],
   "source": []
  },
  {
   "cell_type": "code",
   "execution_count": null,
   "id": "bbdf94ad-cf66-4949-aa2c-c03a4c2b6ab2",
   "metadata": {},
   "outputs": [],
   "source": []
  }
 ],
 "metadata": {
  "kernelspec": {
   "display_name": "Python 3 (ipykernel)",
   "language": "python",
   "name": "python3"
  },
  "language_info": {
   "codemirror_mode": {
    "name": "ipython",
    "version": 3
   },
   "file_extension": ".py",
   "mimetype": "text/x-python",
   "name": "python",
   "nbconvert_exporter": "python",
   "pygments_lexer": "ipython3",
   "version": "3.10.4"
  }
 },
 "nbformat": 4,
 "nbformat_minor": 5
}
