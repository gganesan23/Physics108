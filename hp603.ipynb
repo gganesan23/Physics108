{
 "cells": [
  {
   "cell_type": "code",
   "execution_count": null,
   "id": "0e40a20e-df8f-4cf9-8a40-695cad6f0e84",
   "metadata": {},
   "outputs": [],
   "source": [
    "import numpy as np\n",
    "import pyvisa as visa\n",
    "\n",
    "def inithp(instr):\n",
    "    rm = visa.ResourceManager()\n",
    "    hp = rm.open_resource(instr)\n",
    "    hp.write('VSET 12')\n",
    "    return hp\n",
    "\n",
    "# read X and phase from srs\n",
    "def readhp(srs):\n",
    "    return srs.query_ascii_values('SNAP?1,4')"
   ]
  }
 ],
 "metadata": {
  "kernelspec": {
   "display_name": "Python 3 (ipykernel)",
   "language": "python",
   "name": "python3"
  },
  "language_info": {
   "codemirror_mode": {
    "name": "ipython",
    "version": 3
   },
   "file_extension": ".py",
   "mimetype": "text/x-python",
   "name": "python",
   "nbconvert_exporter": "python",
   "pygments_lexer": "ipython3",
   "version": "3.10.4"
  }
 },
 "nbformat": 4,
 "nbformat_minor": 5
}
