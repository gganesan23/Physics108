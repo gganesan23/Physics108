{
 "cells": [
  {
   "cell_type": "code",
   "execution_count": null,
   "id": "6b2b617d-758a-4314-9ea5-4ba01c8bfd2b",
   "metadata": {},
   "outputs": [],
   "source": [
    "import numpy as np\n",
    "import pyvisa as visa\n",
    "\n",
    "def inithp2(instr):\n",
    "    rm = visa.ResourceManager()\n",
    "    hp = rm.open_resource(instr)\n",
    "    hp.write('VSET 12')\n",
    "    return hp\n",
    "\n",
    "# read X and phase from srs\n",
    "def readhp2(srs, exp_range, exp_res):\n",
    "    * conv to temp: measurehp2(srs,exp_range,exp_res)\n",
    "    \n",
    "def measurehp2(srs,exp_range,exp_res):\n",
    "    return srs.query_ascii_values('MEASURE:FRES? ' + str(exp_range) + ',' + str(exp_res))\n"
   ]
  }
 ],
 "metadata": {
  "kernelspec": {
   "display_name": "Python 3 (ipykernel)",
   "language": "python",
   "name": "python3"
  },
  "language_info": {
   "codemirror_mode": {
    "name": "ipython",
    "version": 3
   },
   "file_extension": ".py",
   "mimetype": "text/x-python",
   "name": "python",
   "nbconvert_exporter": "python",
   "pygments_lexer": "ipython3",
   "version": "3.10.4"
  }
 },
 "nbformat": 4,
 "nbformat_minor": 5
}
