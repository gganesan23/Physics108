{
 "cells": [
  {
   "cell_type": "code",
   "execution_count": 1,
   "id": "7eafdc0e-909a-4b0a-a5ec-90345f409b60",
   "metadata": {},
   "outputs": [],
   "source": [
    "%run srs.ipynb\n",
    "\n",
    "\n"
   ]
  },
  {
   "cell_type": "code",
   "execution_count": 2,
   "id": "ae0e47fd-3c67-40d6-8f5e-e404cc670718",
   "metadata": {},
   "outputs": [],
   "source": [
    "srxx=initsrs('GPIB1::8::INSTR')"
   ]
  },
  {
   "cell_type": "code",
   "execution_count": 3,
   "id": "836a1903-d245-4b6c-9ae0-5b81f1b07fc1",
   "metadata": {},
   "outputs": [],
   "source": [
    "voltin, voltauxin, phase = readsrs(srxx)"
   ]
  },
  {
   "cell_type": "code",
   "execution_count": 4,
   "id": "13e06f4c-c09d-4446-ba76-7e66edaecd49",
   "metadata": {},
   "outputs": [
    {
     "data": {
      "text/plain": [
       "0.0"
      ]
     },
     "execution_count": 4,
     "metadata": {},
     "output_type": "execute_result"
    }
   ],
   "source": [
    "voltauxin"
   ]
  },
  {
   "cell_type": "code",
   "execution_count": null,
   "id": "99d9c89c-ffd8-4c2f-8312-ee4109373a57",
   "metadata": {},
   "outputs": [],
   "source": []
  }
 ],
 "metadata": {
  "kernelspec": {
   "display_name": "Python 3 (ipykernel)",
   "language": "python",
   "name": "python3"
  },
  "language_info": {
   "codemirror_mode": {
    "name": "ipython",
    "version": 3
   },
   "file_extension": ".py",
   "mimetype": "text/x-python",
   "name": "python",
   "nbconvert_exporter": "python",
   "pygments_lexer": "ipython3",
   "version": "3.10.4"
  }
 },
 "nbformat": 4,
 "nbformat_minor": 5
}
