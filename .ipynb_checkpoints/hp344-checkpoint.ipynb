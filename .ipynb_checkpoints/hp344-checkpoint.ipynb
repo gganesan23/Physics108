{
 "cells": [
  {
   "cell_type": "code",
   "execution_count": 1,
   "id": "6b2b617d-758a-4314-9ea5-4ba01c8bfd2b",
   "metadata": {},
   "outputs": [
    {
     "ename": "SyntaxError",
     "evalue": "invalid syntax (108531801.py, line 12)",
     "output_type": "error",
     "traceback": [
      "\u001b[1;36m  Input \u001b[1;32mIn [1]\u001b[1;36m\u001b[0m\n\u001b[1;33m    * conv to temp: measurehp2(srs,exp_range,exp_res)\u001b[0m\n\u001b[1;37m           ^\u001b[0m\n\u001b[1;31mSyntaxError\u001b[0m\u001b[1;31m:\u001b[0m invalid syntax\n"
     ]
    }
   ],
   "source": [
    "import numpy as np\n",
    "import pyvisa as visa\n",
    "\n",
    "def inithp2(instr):\n",
    "    rm = visa.ResourceManager()\n",
    "    hp = rm.open_resource(instr)\n",
    "    hp.write('VSET 12')\n",
    "    return hp\n",
    "\n",
    "# read X and phase from srs\n",
    "def readhp2(srs, exp_range, exp_res):\n",
    "    return measurehp2(srs,exp_range,exp_res) # conv to temp\n",
    "    \n",
    "def measurehp2(srs,exp_range,exp_res):\n",
    "    return srs.query_ascii_values('MEASURE:FRES? ' + str(exp_range) + ',' + str(exp_res))\n"
   ]
  },
  {
   "cell_type": "code",
   "execution_count": null,
   "id": "bc610a30-81d1-426a-ae7a-573f19fcc8b4",
   "metadata": {},
   "outputs": [],
   "source": []
  }
 ],
 "metadata": {
  "kernelspec": {
   "display_name": "Python 3 (ipykernel)",
   "language": "python",
   "name": "python3"
  },
  "language_info": {
   "codemirror_mode": {
    "name": "ipython",
    "version": 3
   },
   "file_extension": ".py",
   "mimetype": "text/x-python",
   "name": "python",
   "nbconvert_exporter": "python",
   "pygments_lexer": "ipython3",
   "version": "3.10.4"
  }
 },
 "nbformat": 4,
 "nbformat_minor": 5
}
