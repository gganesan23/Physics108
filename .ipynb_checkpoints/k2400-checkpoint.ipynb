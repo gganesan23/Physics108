{
 "cells": [
  {
   "cell_type": "code",
   "execution_count": 10,
   "metadata": {
    "collapsed": false,
    "jupyter": {
     "outputs_hidden": false
    }
   },
   "outputs": [],
   "source": [
    "import numpy as np\n",
    "import pyvisa as visa\n",
    "import time\n",
    "\n",
    "\n",
    "# initialize k2400.\n",
    "def init2400(instr):\n",
    "    rm = visa.ResourceManager()\n",
    "    k2400 = rm.open_resource(instr)\n",
    "    print(k2400.query('*IDN?'))\n",
    "    # set various k2400 parameters; see k2400 manual for the full selection\n",
    "    k2400.write('SOUR:VOLT 0') # set voltage to zero\n",
    "    k2400.write('SOUR:VOLT:RANG 1') # set voltage range\n",
    "    k2400.write('FORM:ELEM VOLT, CURR') # set communications formatting \n",
    "    k2400.write('OUTP ON') # turn on output\n",
    "    k2400.write('CURR:PROT 100e-3') # set current compliance\n",
    "    return k2400\n",
    "\n",
    "# read dc current from k2400\n",
    "def read2400(k2400):\n",
    "    return k2400.query_ascii_values(\"READ?\")\n",
    "\n",
    "# set dc voltage\n",
    "def set2400(k2400,target_v):\n",
    "    return k2400.write('SOUR:VOLT %1.6f'%target_v)\n",
    "\n",
    "# sweep the dc voltage to target_v in small voltage steps with a specified delay.\n",
    "# differs from set2400, which sets voltage as fast as the instrument will go.\n",
    "def sweep2400(k2400,target_v,step=0.1,delay=0.01):\n",
    "    cur_v = read2400(k2400)[0]\n",
    "    while abs(cur_v-target_v) > step:\n",
    "        if cur_v < target_v:\n",
    "            set2400(k2400,cur_v+step)\n",
    "        else:\n",
    "            set2400(k2400,cur_v-step)\n",
    "        time.sleep(delay)\n",
    "        cur_v = read2400(k2400)[0]\n",
    "    set2400(k2400,target_v)"
   ]
  },
  {
   "cell_type": "code",
   "execution_count": null,
   "metadata": {
    "collapsed": true,
    "jupyter": {
     "outputs_hidden": true
    }
   },
   "outputs": [],
   "source": []
  }
 ],
 "metadata": {
  "anaconda-cloud": {},
  "kernelspec": {
   "display_name": "Python 3 (ipykernel)",
   "language": "python",
   "name": "python3"
  },
  "language_info": {
   "codemirror_mode": {
    "name": "ipython",
    "version": 3
   },
   "file_extension": ".py",
   "mimetype": "text/x-python",
   "name": "python",
   "nbconvert_exporter": "python",
   "pygments_lexer": "ipython3",
   "version": "3.10.4"
  }
 },
 "nbformat": 4,
 "nbformat_minor": 4
}
