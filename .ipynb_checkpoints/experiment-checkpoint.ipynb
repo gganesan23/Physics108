{
 "cells": [
  {
   "cell_type": "code",
   "execution_count": 82,
   "id": "55af51c5-6420-407a-861c-dc19177c9c69",
   "metadata": {},
   "outputs": [],
   "source": [
    "# TODO: are min and max gate voltages fine at -10 and 10?\n",
    "# TODO: what is diff of srs 830 vs 810? figure out which to get the phase from\n",
    "# TODO: how many steps and what delay time for keithley?\n",
    "# TODO: check initami\n",
    "# TODO: is the ramp rate correct for ami; i just used the max\n",
    "# TODO: do i need the [1] after readami inside lockin_iv_ami\n",
    "# TODO: how long to wait between taking measurements of ami--aka, how many data points needed\n",
    "# TODO: how to set whether srs is measuring current or voltage or should i just set this manually\n",
    "# TODO: will get delay from cameron--prob like 3 seconds.  then determine number of voltage steps.\n",
    "\n",
    "# %run lockin_iv.ipynb\n",
    "%run lockin_iv_keithley2.ipynb\n",
    "%run lockin_iv_ami.ipynb\n",
    "# %run k2400.ipynb\n",
    "%run ami420.ipynb\n",
    "%run srs.ipynb\n",
    "%run fileio.ipynb\n",
    "%run hp603.ipynb"
   ]
  },
  {
   "cell_type": "code",
   "execution_count": 80,
   "id": "14255a27-09f4-4f9b-a791-2f6143059330",
   "metadata": {},
   "outputs": [
    {
     "name": "stdout",
     "output_type": "stream",
     "text": [
      "KEITHLEY INSTRUMENTS INC.,MODEL 2400,1199539,C30   Mar 17 2006 09:29:29/A02  /K/J\n",
      "\n"
     ]
    }
   ],
   "source": [
    "# ami420=initami('GPIB1::22::INSTR') # init ami on GPIB addr 22\n",
    "srxx=initsrs('GPIB0::8::INSTR') # init srs on GPIB addr 8\n",
    "srxy = srxx\n",
    "srcurrent = srxx\n",
    "# srxy=initsrs('GPIB0::10::INSTR') # init srs on GPIB addr 20\n",
    "# srcurrent=initsrs('GPIB0::11::INSTR') # init srs on GPIB addr 20\n",
    "k2400=init2400('GPIB0::3::INSTR') # init k2400 on GPIB addr 3\n",
    "ami = initami('GPIB0::22::INSTR')\n",
    "hp = inithp('GPIB0::21::INSTR')"
   ]
  },
  {
   "cell_type": "code",
   "execution_count": 3,
   "id": "820b096d-b299-4d8e-aa4a-2ed0ffa44562",
   "metadata": {},
   "outputs": [
    {
     "data": {
      "text/plain": [
       "array([0.  , 0.02, 0.04, 0.06, 0.08, 0.1 , 0.12, 0.14, 0.16, 0.18, 0.2 ,\n",
       "       0.22, 0.24, 0.26, 0.28, 0.3 , 0.32, 0.34, 0.36, 0.38, 0.4 , 0.42,\n",
       "       0.44, 0.46, 0.48, 0.5 , 0.52, 0.54, 0.56, 0.58, 0.6 , 0.62, 0.64,\n",
       "       0.66, 0.68, 0.7 , 0.72, 0.74, 0.76, 0.78, 0.8 , 0.82, 0.84, 0.86,\n",
       "       0.88, 0.9 , 0.92, 0.94, 0.96, 0.98, 1.  ])"
      ]
     },
     "execution_count": 3,
     "metadata": {},
     "output_type": "execute_result"
    }
   ],
   "source": [
    "np.linspace(0,1,51)"
   ]
  },
  {
   "cell_type": "code",
   "execution_count": 84,
   "id": "74fcea11-f14f-431b-96dd-66cd65394e52",
   "metadata": {},
   "outputs": [
    {
     "data": {
      "image/png": "[encoded data removed]",
      "text/plain": [
       "<Figure size 576x216 with 4 Axes>"
      ]
     },
     "metadata": {
      "needs_background": "light"
     },
     "output_type": "display_data"
    }
   ],
   "source": [
    "# Sweep gate voltage (from Vmin = -10 V to Vmax = 10 V) and record Rxx, Rxy. Stay at Vg=Vmax. (See Fig 3a from Dean2010). Ramp speed: 0.02 V/sec\n",
    "# step1 = lockin_iv_keithley(k2400,srxx,srxy,srcurrent,np.linspace(-1,1,51),0.5,1) #how many steps, what delay time\n",
    "                                                              \n",
    "# # While Vg=Vmax, sweep the magnetic field from Bmin = 0 T to Bmax = 5 T. We should see a typical QHE plot for Rxx, Rxy. \n",
    "# ACTUAL RAMP RATE: 0.032\n",
    "\n",
    "# step2 = lockin_iv_ami(ami,srxx,srxy,srcurrent,0,1,,0.5,2)\n",
    "\n",
    "ami.write('CONF:COIL 1')\n",
    "ami.write('CONF:STAB 98')\n",
    "step2 = lockin_iv_ami(ami,srxx,srxy,srcurrent,0,0.5,0.1,0.5,2)\n",
    "\n",
    "\n",
    "# # Go from V = Vmax to V = Vmin while staying at B = Bmax. We expect to see steps in Rxy that correspond to crossing of n=1,0,-1 LLs\n",
    "# step1 = lockin_iv_keithley(k2400,srxx,srxy,srcurrent,np.linspace(10,-10,steps,delay,1)) #how many steps, what delay time\n",
    "                                                                       \n",
    "# # Sweep from B = Bmax to B = 0 while at V = Vmin. We expect to see Rxy(-B) = -Rxy(B), Rxx(-B)=Rxx(B) according to Onsager relations.                                                                 \n",
    "# step4 = lockin_iv_ami(ami420,srsxx,srsxy,srscurrent,5,0,0.032, delay, 4)\n",
    "\n"
   ]
  },
  {
   "cell_type": "code",
   "execution_count": 8,
   "id": "9a022569-f5fe-4f13-b3b4-a0eef4644abf",
   "metadata": {},
   "outputs": [
    {
     "data": {
      "text/plain": [
       "'AMERICAN MAGNETICS INC.,MODEL 420,1.31b\\n'"
      ]
     },
     "execution_count": 8,
     "metadata": {},
     "output_type": "execute_result"
    }
   ],
   "source": [
    "ami.query(\"*IDN?\")"
   ]
  },
  {
   "cell_type": "code",
   "execution_count": 5,
   "id": "323ed5ec-e595-41fd-a52c-b13093a80dc8",
   "metadata": {},
   "outputs": [],
   "source": [
    "sweep2400(k2400,0)"
   ]
  },
  {
   "cell_type": "code",
   "execution_count": 16,
   "id": "3ac72771-498c-466e-a125-966f9e698eac",
   "metadata": {},
   "outputs": [
    {
     "data": {
      "text/plain": [
       "[0.0]"
      ]
     },
     "execution_count": 16,
     "metadata": {},
     "output_type": "execute_result"
    }
   ],
   "source": [
    "ami.query_ascii_values('FIELD:MAG?')"
   ]
  },
  {
   "cell_type": "code",
   "execution_count": 70,
   "id": "27cdd2c0",
   "metadata": {},
   "outputs": [],
   "source": [
    "rampami(0.5, 0.1)"
   ]
  },
  {
   "cell_type": "code",
   "execution_count": 66,
   "id": "6171c473",
   "metadata": {},
   "outputs": [
    {
     "data": {
      "text/plain": [
       "13"
      ]
     },
     "execution_count": 66,
     "metadata": {},
     "output_type": "execute_result"
    }
   ],
   "source": [
    "ami.write('CONF:COIL 1')"
   ]
  },
  {
   "cell_type": "code",
   "execution_count": 68,
   "id": "20dc464a",
   "metadata": {},
   "outputs": [
    {
     "data": {
      "text/plain": [
       "[1.0]"
      ]
     },
     "execution_count": 68,
     "metadata": {},
     "output_type": "execute_result"
    }
   ],
   "source": [
    "ami.query_ascii_values('COIL?')"
   ]
  },
  {
   "cell_type": "code",
   "execution_count": 65,
   "id": "fe28e458",
   "metadata": {
    "collapsed": true
   },
   "outputs": [
    {
     "data": {
      "text/plain": [
       "14"
      ]
     },
     "execution_count": 65,
     "metadata": {},
     "output_type": "execute_result"
    }
   ],
   "source": [
    "ami.write('CONF:STAB 98')"
   ]
  },
  {
   "cell_type": "code",
   "execution_count": 73,
   "id": "e3ac8301",
   "metadata": {},
   "outputs": [
    {
     "ename": "IndexError",
     "evalue": "list index out of range",
     "output_type": "error",
     "traceback": [
      "\u001b[1;31m---------------------------------------------------------------------------\u001b[0m",
      "\u001b[1;31mIndexError\u001b[0m                                Traceback (most recent call last)",
      "\u001b[1;32m~\\AppData\\Local\\Temp/ipykernel_13716/2261677215.py\u001b[0m in \u001b[0;36m<module>\u001b[1;34m\u001b[0m\n\u001b[1;32m----> 1\u001b[1;33m \u001b[1;33m[\u001b[0m\u001b[1;36m0\u001b[0m\u001b[1;33m]\u001b[0m\u001b[1;33m[\u001b[0m\u001b[1;36m1\u001b[0m\u001b[1;33m]\u001b[0m\u001b[1;33m\u001b[0m\u001b[1;33m\u001b[0m\u001b[0m\n\u001b[0m",
      "\u001b[1;31mIndexError\u001b[0m: list index out of range"
     ]
    }
   ],
   "source": [
    "[0][1]"
   ]
  },
  {
   "cell_type": "code",
   "execution_count": 81,
   "id": "e13855c0",
   "metadata": {},
   "outputs": [
    {
     "data": {
      "text/plain": [
       "0.0"
      ]
     },
     "execution_count": 81,
     "metadata": {},
     "output_type": "execute_result"
    }
   ],
   "source": [
    "readami(ami)"
   ]
  },
  {
   "cell_type": "code",
   "execution_count": 77,
   "id": "90d0ec77",
   "metadata": {},
   "outputs": [
    {
     "data": {
      "text/plain": [
       "0.0"
      ]
     },
     "execution_count": 77,
     "metadata": {},
     "output_type": "execute_result"
    }
   ],
   "source": [
    "readami(ami)[0]"
   ]
  },
  {
   "cell_type": "code",
   "execution_count": 78,
   "id": "81d1a53c",
   "metadata": {},
   "outputs": [
    {
     "ename": "IndexError",
     "evalue": "list index out of range",
     "output_type": "error",
     "traceback": [
      "\u001b[1;31m---------------------------------------------------------------------------\u001b[0m",
      "\u001b[1;31mIndexError\u001b[0m                                Traceback (most recent call last)",
      "\u001b[1;32m~\\AppData\\Local\\Temp/ipykernel_13716/1013405115.py\u001b[0m in \u001b[0;36m<module>\u001b[1;34m\u001b[0m\n\u001b[1;32m----> 1\u001b[1;33m \u001b[0mreadami\u001b[0m\u001b[1;33m(\u001b[0m\u001b[0mami\u001b[0m\u001b[1;33m)\u001b[0m\u001b[1;33m[\u001b[0m\u001b[1;36m1\u001b[0m\u001b[1;33m]\u001b[0m\u001b[1;33m\u001b[0m\u001b[1;33m\u001b[0m\u001b[0m\n\u001b[0m",
      "\u001b[1;31mIndexError\u001b[0m: list index out of range"
     ]
    }
   ],
   "source": [
    "readami(ami)[1]"
   ]
  },
  {
   "cell_type": "code",
   "execution_count": null,
   "id": "7ea62b6a",
   "metadata": {},
   "outputs": [],
   "source": []
  }
 ],
 "metadata": {
  "kernelspec": {
   "display_name": "Python 3 (ipykernel)",
   "language": "python",
   "name": "python3"
  },
  "language_info": {
   "codemirror_mode": {
    "name": "ipython",
    "version": 3
   },
   "file_extension": ".py",
   "mimetype": "text/x-python",
   "name": "python",
   "nbconvert_exporter": "python",
   "pygments_lexer": "ipython3",
   "version": "3.9.7"
  }
 },
 "nbformat": 4,
 "nbformat_minor": 5
}
