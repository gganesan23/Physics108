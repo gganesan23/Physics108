{
 "cells": [
  {
   "cell_type": "code",
   "execution_count": 2,
   "metadata": {
    "collapsed": true,
    "jupyter": {
     "outputs_hidden": true
    }
   },
   "outputs": [],
   "source": [
    "import datetime as dt\n",
    "import numpy as np\n",
    "import pickle\n",
    "import os\n",
    "\n",
    "# saves object obj to disk, in \".pkl\" format \n",
    "def savedata(filename,obj):\n",
    "    dir_end = filename.find('/')\n",
    "    if not os.path.exists(filename[:dir_end]):\n",
    "        os.makedirs(filename[:dir_end])\n",
    "    with open(filename, 'wb') as output:\n",
    "        pickle.dump(obj, output, pickle.HIGHEST_PROTOCOL)\n",
    "\n",
    "# loads an object from a .pkl file and returns that object\n",
    "def loaddata(filename):\n",
    "    with open(filename, 'rb') as inp:\n",
    "        return pickle.load(inp)\n",
    "    \n",
    "# algorithm to make filename based on date and time\n",
    "def makefilename(try_filename = None, step = 0):\n",
    "    suffix = '_step' + str(step) + '.pkl'\n",
    "    if try_filename is None:\n",
    "        return dt.datetime.strftime(dt.datetime.now(), '%m%d%y/%H%M%S') + suffix\n",
    "    folder = dt.datetime.strftime(dt.datetime.now(), '%m%d%y')\n",
    "    full_try_filename = folder+'/'+try_filename+suffix\n",
    "    if os.path.isfile(full_try_filename):\n",
    "        i=2\n",
    "        while True:\n",
    "            next_try_filename = folder+'/'+try_filename + ' ' + repr(i) +suffix\n",
    "            if not os.path.isfile(next_try_filename):\n",
    "                return next_try_filename\n",
    "            i+=1\n",
    "            \n",
    "    return full_try_filename\n"
   ]
  },
  {
   "cell_type": "code",
   "execution_count": null,
   "metadata": {
    "collapsed": true,
    "jupyter": {
     "outputs_hidden": true
    }
   },
   "outputs": [],
   "source": []
  }
 ],
 "metadata": {
  "anaconda-cloud": {},
  "kernelspec": {
   "display_name": "Python 3 (ipykernel)",
   "language": "python",
   "name": "python3"
  },
  "language_info": {
   "codemirror_mode": {
    "name": "ipython",
    "version": 3
   },
   "file_extension": ".py",
   "mimetype": "text/x-python",
   "name": "python",
   "nbconvert_exporter": "python",
   "pygments_lexer": "ipython3",
   "version": "3.10.4"
  }
 },
 "nbformat": 4,
 "nbformat_minor": 4
}
